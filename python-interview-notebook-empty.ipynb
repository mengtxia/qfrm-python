{
 "cells": [
  {
   "cell_type": "markdown",
   "metadata": {},
   "source": [
    "### 1.1\n",
    "What is the value of $\\sqrt{2}^{\\sqrt{2}^{{\\sqrt{2}^{...}}}}$?\n",
    "\n",
    "The solution can be found by...\n",
    "\n",
    "Below is the solution using Phthon"
   ]
  },
  {
   "cell_type": "code",
   "execution_count": 25,
   "metadata": {
    "collapsed": false
   },
   "outputs": [
    {
     "name": "stdout",
     "output_type": "stream",
     "text": [
      "2.0\n"
     ]
    }
   ],
   "source": [
    "#import math\n",
    "#a=math.sqrt(2)\n",
    "#b=a\n",
    "#for n in range(0,100):\n",
    "#    b=math.pow(a,b)\n",
    "#print b\n",
    "import math\n",
    "exponent = 1\n",
    "for n in range(0,100):\n",
    "    exponent = math.sqrt(2)**exponent\n",
    "print exponent"
   ]
  },
  {
   "cell_type": "markdown",
   "metadata": {},
   "source": [
    "### 3.1\n",
    "You have a bag with two coins. One will come up heads 40% of the time, and the other will come up heads 60%. You pick a coin randomly, flip it and get a head. What is the probability it will be heads on the next flip?"
   ]
  },
  {
   "cell_type": "code",
   "execution_count": 40,
   "metadata": {
    "collapsed": false
   },
   "outputs": [
    {
     "name": "stdout",
     "output_type": "stream",
     "text": [
      "2595 5069\n",
      "0.511935292957\n"
     ]
    }
   ],
   "source": [
    "import math\n",
    "import random as rnd\n",
    "\n",
    "def headsOrTails(probTails):\n",
    "    if rnd.random()<probTails:\n",
    "        return 0  # tils1\n",
    "    return 1  #heads1\n",
    "\n",
    "# Auume 0 = tils, 1 heads\n",
    "firstFlipIsAHeadCounter = 0  #count only trials where first flip is head\n",
    "secondFlipIsAHeadCounter = 0  #count how many of those had a 2nd head\n",
    "for trialCtr in range(0,100):\n",
    "    if rnd.random()<0.5: #reach into bag, and grab either coin\n",
    "        probTails = 0.6  #heads 40% of the time\n",
    "    else:\n",
    "        probTails = 0.4  #heads 60% of the time\n",
    "    coin = headsOrTails(probTails)   #flip the coin1\n",
    "    if coin==1:      #it's a head, because it must be 1, not 0\n",
    "        firstFlipIsAHeadCounter += 1\n",
    "        secondFlipIsAHeadCounter += headsOrTails(probTails)\n",
    "probEstimate = float(secondFlipIsAHeadCounter) / firstFlipIsAHeadCounter\n",
    "print secondFlipIsAHeadCounter, firstFlipIsAHeadCounter\n",
    "print probEstimate\n",
    "\n",
    "    "
   ]
  },
  {
   "cell_type": "markdown",
   "metadata": {},
   "source": [
    "### 3.1 Object-oriented version\n",
    "\n",
    "Here we solve the same problem, but introducing objects to Python.\n",
    "\n",
    "A simplistic approach to OO design is to identify the nouns in the problem description, and consider those to be potential *classes*. A class is a template, sort of like a cookie cutter for stamping out identical objects, ready for use.\n",
    "\n",
    "In this problem, we see **coin** and **porse** in the problem description. So let's make them into classes.\n",
    "\n",
    "The *methods* of a class represent the actions we expect of the objects created from the class."
   ]
  },
  {
   "cell_type": "code",
   "execution_count": 11,
   "metadata": {
    "collapsed": false
   },
   "outputs": [
    {
     "name": "stdout",
     "output_type": "stream",
     "text": [
      "0.545454545455\n"
     ]
    }
   ],
   "source": [
    "import numpy as np\n",
    "\n",
    "class Coin(object): #we capitalize the names of classes.\n",
    "    # almost always define a constructor, so that we can create instances(objects) of Coin:\n",
    "    def __init__(self,probHeads):\n",
    "        self.probHeads = probHeads\n",
    "        \n",
    "    def flipIsHead(self):\n",
    "        return np.random.random() < self.probHeads\n",
    "    \n",
    "class CoinBag(object):\n",
    "        def __init__(self):\n",
    "            self.coins = []\n",
    "        \n",
    "        def addCoin(self,coin):\n",
    "            self.coins.append(coin)\n",
    "        \n",
    "        def pickRandomCoin(self):\n",
    "            return np.random.choice(self.coins)\n",
    "\n",
    "cb = CoinBag()\n",
    "cb.addCoin(Coin(0.6))\n",
    "cb.addCoin(Coin(0.4))\n",
    "\n",
    "# print cb.pickRandomCoin().probHeads\n",
    "\n",
    "firstFlipIsAHeadCounter = 0  #count only trials where first flip is head\n",
    "secondFlipIsAHeadCounter = 0  #count how many of those had a 2nd head\n",
    "for trialCtr in range(0,100):\n",
    "    randomCoin = cb.pickRandomCoin()\n",
    "    if randomCoin.flipIsHead(): \n",
    "        firstFlipIsAHeadCounter += 1\n",
    "        if randomCoin.flipIsHead():\n",
    "            secondFlipIsAHeadCounter += 1\n",
    "print float(secondFlipIsAHeadCounter)/firstFlipIsAHeadCounter\n",
    "\n",
    "\n",
    "\n",
    "\n",
    "    "
   ]
  },
  {
   "cell_type": "markdown",
   "metadata": {},
   "source": [
    "### 3.1\n",
    "In front of you is a jar of 1000 coins. One of the coins has two heads, and the rest are fair coins. You choose a coin at random, and flip it ten times, getting all heads. What is the probability it is one of the fair coins?"
   ]
  },
  {
   "cell_type": "code",
   "execution_count": 29,
   "metadata": {
    "collapsed": false
   },
   "outputs": [
    {
     "name": "stdout",
     "output_type": "stream",
     "text": [
      "0.45\n"
     ]
    }
   ],
   "source": [
    "cb = CoinBag()\n",
    "\n",
    "class Coin(object):\n",
    "    def  __init__(self, probHeads):\n",
    "        self.probHeads = probHeads\n",
    "    \n",
    "    def flipIsHead(self):\n",
    "        return np.random.random() < self.probHeads\n",
    "    \n",
    "    def nextNFlipsAreHeads(self,n):\n",
    "        for i in range(n):\n",
    "            if not self.flipIsHead(): # i.e. it's a Tail!\n",
    "                return False\n",
    "        return True\n",
    "\n",
    "class CoinBag(object):\n",
    "    def __init__(self):\n",
    "        self.coins = []\n",
    "        \n",
    "    def addCoin(self,coin):\n",
    "        self.coins.append(coin)\n",
    "    \n",
    "    def pickRandomCoin(self):\n",
    "        return np.random.choice(self.coins)\n",
    "        \n",
    "\n",
    "cb.addCoin(Coin(1))\n",
    "#for n in range(999):\n",
    "#    cb.addCoin(Coin(0.5))\n",
    "[cb.addCoin(Coin(0.5)) for n in range(999)]\n",
    "\n",
    "tenFlipsAreHeadsCounter = 0\n",
    "failCoinCtr = 0\n",
    "\n",
    "for trialCtr in range(0,10000):\n",
    "    randomCoin = cb.pickRandomCoin()\n",
    "    if randomCoin.nextNFlipsAreHeads(10): \n",
    "        tenFlipsAreHeadsCounter += 1\n",
    "        if randomCoin.probHeads < 1:\n",
    "            failCoinCtr += 1\n",
    "print float(failCoinCtr)/tenFlipsAreHeadsCounter\n"
   ]
  },
  {
   "cell_type": "markdown",
   "metadata": {},
   "source": [
    "### Monte Hall Problem\n",
    "\n",
    "You are a contestant on a game show. You have 3 doors in front of you. Behind two of the doors are goats. Unattractive goats. Behind the other door is a brand new Tesla. The game show host asks you to choose a door. After you do, heopens one of the remaining doors, and there stands a goat. The game show host asks you if you'd like to switch doors. What do you do?\n"
   ]
  },
  {
   "cell_type": "markdown",
   "metadata": {},
   "source": [
    "### 3.5\n",
    "Starting at one vertex of a cube, and moving randomly from vertex to adjacent vertices, what is the expected number of moves until you reach the  vertex opposite from your starting point?"
   ]
  },
  {
   "cell_type": "code",
   "execution_count": 84,
   "metadata": {
    "collapsed": false
   },
   "outputs": [
    {
     "name": "stdout",
     "output_type": "stream",
     "text": [
      "271.383575664\n"
     ]
    }
   ],
   "source": [
    "import math\n",
    "import random as rnd\n",
    "ExpNum=0.0\n",
    "num=1.0\n",
    "state=0\n",
    "for m in range(0,1000):\n",
    "    num=1.0\n",
    "    state=0\n",
    "    for n in range(0,1000):\n",
    "        rand = rnd.random()\n",
    "        if state==0:\n",
    "            num *=1\n",
    "            state+=1\n",
    "        elif state==1:\n",
    "            if rand<=1.0/3:\n",
    "                num = num/3\n",
    "                state=state-1\n",
    "            elif rand>1.0/3:\n",
    "                num *=2.0/3\n",
    "                state+=1\n",
    "        elif state==2:\n",
    "            if rand<=1.0/3:\n",
    "                num *=1.0/3\n",
    "                state +=1\n",
    "                num=num*(n+1)\n",
    "                break\n",
    "            elif rand>1.0/3:\n",
    "                num *=2.0/3\n",
    "                state = state-1\n",
    "\n",
    "    ExpNum+=num\n",
    "print ExpNum\n",
    "        \n",
    "        \n",
    "    "
   ]
  },
  {
   "cell_type": "markdown",
   "metadata": {},
   "source": [
    "### 3.8\n",
    "You have a spinner that generates random numbers that are uniform between 0 and 1. You sum the spins until the sum is greater than one. What is the expected number of spins?"
   ]
  },
  {
   "cell_type": "code",
   "execution_count": 34,
   "metadata": {
    "collapsed": false
   },
   "outputs": [
    {
     "name": "stdout",
     "output_type": "stream",
     "text": [
      "[2, 3, 2, 2, 4, 2, 3, 3, 2, 3, 2, 2, 2, 2, 2, 4, 3, 2, 2, 5, 2, 4, 3, 6, 4, 4, 3, 2, 2, 6, 2, 2, 5, 3, 2, 2, 5, 4, 2, 2, 2, 6, 7, 2, 2, 2, 4, 4, 2, 4, 4, 3, 3, 3, 2, 3, 2, 3, 4, 3, 5, 4, 3, 2, 2, 3, 3, 2, 2, 2, 3, 2, 3, 2, 3, 3, 4, 3, 2, 3, 3, 3, 3, 3, 2, 2, 2, 4, 2, 5, 2, 2, 3, 3, 3, 2, 3, 3, 3, 2]\n",
      "2.93\n"
     ]
    }
   ],
   "source": [
    "import numpy as np\n",
    "class Spinner(object):\n",
    "    def __init__(self):\n",
    "        self.total = 0\n",
    "        self.spinCounter = 0\n",
    "        \n",
    "    def spin(self):\n",
    "        self.total += np.random.random()\n",
    "        self.spinCounter += 1\n",
    "    \n",
    "    def reset(self):\n",
    "        self.total = 0\n",
    "        self.spinCounter = 0\n",
    "    \n",
    "    def spinUnitilGreaterThanOneAndReset(self):\n",
    "        while self.total < 1:\n",
    "            self.spin()\n",
    "        answer = self.spinCounter\n",
    "        self.reset()   \n",
    "        return answer\n",
    "    \n",
    "spinner = Spinner()\n",
    "totalSpins = 0\n",
    "NumTrials = 100\n",
    "#for n in range(NumTrials):\n",
    "#    totalSpins += spinner.spinUnitilGreaterThanOneAndReset()\n",
    "#print float(totalSpins)/NumTrials\n",
    "trials = [spinner.spinUnitilGreaterThanOneAndReset() for n in range(NumTrials)]\n",
    "print trials\n",
    "print float(sum(trials))/NumTrials\n",
    "    \n"
   ]
  },
  {
   "cell_type": "code",
   "execution_count": 36,
   "metadata": {
    "collapsed": false
   },
   "outputs": [
    {
     "name": "stdout",
     "output_type": "stream",
     "text": [
      "Populating the interactive namespace from numpy and matplotlib\n"
     ]
    },
    {
     "data": {
      "text/plain": [
       "(array([ 0.44,  0.33,  0.14,  0.05,  0.03,  0.01]),\n",
       " array([ 2.,  3.,  4.,  5.,  6.,  7.,  8.]),\n",
       " <a list of 6 Patch objects>)"
      ]
     },
     "execution_count": 36,
     "metadata": {},
     "output_type": "execute_result"
    },
    {
     "data": {
      "image/png": "[encoded data removed]",
      "text/plain": [
       "<matplotlib.figure.Figure at 0x10c7ae850>"
      ]
     },
     "metadata": {},
     "output_type": "display_data"
    }
   ],
   "source": [
    "# need next line to get figure to appear in Jupyter\n",
    "%pylab inline  \n",
    "import matplotlib.pyplot as plt\n",
    "\n",
    "numBins = np.max(trials) - np.min(trials) + 1\n",
    "plt.hist(trials, bins=numBins, normed=True, align='left',rwidth=0.3, range=(2, 2+numBins))\n",
    "# plot.grid = True"
   ]
  },
  {
   "cell_type": "markdown",
   "metadata": {},
   "source": [
    "### 4.4\n",
    "You have a basket of $n$ assets. The asset returns are multivariate normal with zero mean. Correlation between any pair of assets is 1/2. What is the probability that $k$ of the assets will have positive return?"
   ]
  },
  {
   "cell_type": "code",
   "execution_count": 76,
   "metadata": {
    "collapsed": false
   },
   "outputs": [
    {
     "name": "stdout",
     "output_type": "stream",
     "text": [
      "0.333333333333\n"
     ]
    }
   ],
   "source": [
    "num=1.0\n",
    "num=1.0/3\n",
    "print num"
   ]
  },
  {
   "cell_type": "markdown",
   "metadata": {},
   "source": [
    "### 3.10\n",
    "A stick is broken randomly into 3 pieces. What is the probability of the pieces being able to form a triangle?"
   ]
  },
  {
   "cell_type": "code",
   "execution_count": null,
   "metadata": {
    "collapsed": false
   },
   "outputs": [],
   "source": []
  },
  {
   "cell_type": "markdown",
   "metadata": {},
   "source": [
    "### 3.11\n",
    "A stick is broken randomly into two pieces. The larger piece is then broken randomly into two pieces. What is the probability of the pieces being able to form a triangle?"
   ]
  },
  {
   "cell_type": "code",
   "execution_count": null,
   "metadata": {
    "collapsed": false
   },
   "outputs": [],
   "source": []
  },
  {
   "cell_type": "markdown",
   "metadata": {},
   "source": [
    "### 5.10\n",
    "Suppose there are 36 students in the QFRM program, each assigned a unique integer from 1 to 36. Thirty-six quarters are laid out on a table in a row, heads up. Each student goes to the table, and if they are assigned the number $n$, they turn over the $n$th coin, the $2n$th coin, and so on. So, for example, the student who is assigned 15 will turn over the 15th and 30th coins. When everyone is done, how many tails are showing?"
   ]
  },
  {
   "cell_type": "code",
   "execution_count": null,
   "metadata": {
    "collapsed": false
   },
   "outputs": [],
   "source": []
  }
 ],
 "metadata": {
  "anaconda-cloud": {},
  "kernelspec": {
   "display_name": "Python [Root]",
   "language": "python",
   "name": "Python [Root]"
  },
  "language_info": {
   "codemirror_mode": {
    "name": "ipython",
    "version": 2
   },
   "file_extension": ".py",
   "mimetype": "text/x-python",
   "name": "python",
   "nbconvert_exporter": "python",
   "pygments_lexer": "ipython2",
   "version": "2.7.12"
  }
 },
 "nbformat": 4,
 "nbformat_minor": 0
}
